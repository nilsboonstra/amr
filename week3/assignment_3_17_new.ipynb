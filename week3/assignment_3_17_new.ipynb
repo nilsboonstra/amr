{
 "cells": [
  {
   "cell_type": "markdown",
   "metadata": {},
   "source": [
    "## Assignment 3\n",
    "\n",
    "In this assignment, we will solve problem for line fitting and extraction for robot\n",
    "localisation.\n",
    "\n",
    "### GROUPNUMBER : \n",
    "17\n",
    "### STUDENT NAMES : \n",
    "Henk, Lodewijk, Nils\n",
    "### STUDENT NUMBERS :\n",
    " , 11054115, 11784415"
   ]
  },
  {
   "cell_type": "code",
   "execution_count": null,
   "metadata": {},
   "outputs": [],
   "source": [
    "import numpy as np\n",
    "from numpy.random import normal\n",
    "import time\n",
    "import matplotlib.pyplot as plt\n",
    "import matplotlib.patches as mpatches\n",
    "import matplotlib.lines as mlines\n",
    "import math\n",
    "from util import *"
   ]
  },
  {
   "cell_type": "markdown",
   "metadata": {},
   "source": [
    "## introduction \n",
    "For a lot of application in robotics, knowledge of the position and orientation of the \n",
    "platform is essential. This exercise could be motivated by an autonomous vehicle \n",
    "hauling goods across the corridors of a warehouse. In order to navigate from one place \n",
    "to another, the vehicle would need to know its position in the warehouse as well as its \n",
    "heading. On its way, it might come across walls, doorways, and racks, all of which would \n",
    "be perceived as measurements located along lines by a laser scanner mounted in a way \n",
    "that its scanning plane is parallel to the ground. \n"
   ]
  },
  {
   "cell_type": "markdown",
   "metadata": {},
   "source": [
    "## Exercise 1 Line representations\n",
    "\n",
    "A range scan describes a 2D slice of the environment. Points in a range scan are specified in a polar coordinate system with the origin at the location of the sensor. It is common in literature to assume that the noise on measurements follows a Gaussian distribution with zero mean, some range variance and negligible angular uncertainty. \n",
    "We choose to express a line in polar parameters $(\\rho, \\alpha)$ as defined by the line equation for the Cartesian coordinates $( x, y )$ of the points lying on the line \n",
    "$x\\cos(\\alpha)\\ + y\\sin(\\alpha)\\ = \\rho$, \n",
    "where $—\\pi < \\alpha < \\pi$ is the angle between the x-axis and the shortest connection between the origin and the line. This connection's length is $\\rho > 0$.\n"
   ]
  },
  {
   "cell_type": "code",
   "execution_count": null,
   "metadata": {},
   "outputs": [],
   "source": [
    "x_points, y_points = get_coords(1)\n",
    "rho, alpha = get_line(1)\n",
    "\n",
    "visualize(x_points, y_points, [(rho, alpha)])"
   ]
  },
  {
   "cell_type": "markdown",
   "metadata": {},
   "source": [
    "### Theory question 1\n",
    "\n",
    "What are problems with using the classical ax + b = y notation for lines. Tip think about hough spaces.\n",
    "\n",
    "### Answer\n",
    "Vertical lines cannot be represented because the gradient a is infinite here."
   ]
  },
  {
   "cell_type": "markdown",
   "metadata": {},
   "source": [
    "## Exercise 1: fitline\n",
    "The first step in creating the Split-and-Merge algorithm is to calculate the best fitting lines for the given points. In this exercise you will finish the fitLine algorithm using a set of points in Cartesian coordinates after reading the following theory. \n",
    "The aim of the function is to minimize the sum of squared errors:<br><br>\n",
    "$$\n",
    "S(r, \\alpha):=\\sum_{i}(\\underbrace{r-x^{i} \\cos \\alpha-y^{i} \\sin \\alpha}_{=\\left(D(\\alpha, r),\\left(x^{i}, y^{i}\\right)\\right)})^{2}\n",
    "$$\n",
    "where $\\left(x^{i}, y^{i}\\right)$ are the input points in Cartesian coordinates. The solution of $(r, \\alpha)$ can be found by imposing: $\\nabla S=0 .$ <br>\n",
    "\n",
    "The solution for $\\alpha$ is then\n",
    "$$\n",
    "\\begin{array}{c}\n",
    "{\\alpha=\\frac{\\tan ^{-1}\\left(\\frac{n u m}{d e n o m}\\right)}{2}} \\\\\\\\\n",
    "{n u m:=-2 \\sum_{i}\\left(x^{i}-x_{c}\\right)\\left(y^{i}-y_{c}\\right)} \\\\\\\\\n",
    "{\\text { denom }:=\\sum_{i}\\left(y^{i}-y_{c}\\right)^{2}-\\left(x^{i}-x_{c}\\right)^{2}}\n",
    "\\end{array}\n",
    "$$<br>\n",
    "where $\\left(x_{c}, y_{c}\\right)$ are the Cartesian coordinate of the $\\left(x^{i}, y^{i}\\right)$ 's centroid. In order to solve for r consider the equation (1) and a point that will surely lie on the line (which one is it?). Please find additional information on $[\\text { pp. } 244]$ including a solution for polar input on $[\\mathrm{p} .246] .$ "
   ]
  },
  {
   "cell_type": "code",
   "execution_count": null,
   "metadata": {},
   "outputs": [],
   "source": [
    "def fitLine(x_points, y_points):\n",
    "    \"\"\"\n",
    "    This function fits a polar line using the mse fit.=\n",
    "    input:\n",
    "        - x_points : np_array\n",
    "        - y_points : np_array\n",
    "    output:\n",
    "        - (alpha, rho) : tupple\n",
    "            - alpha : float\n",
    "            - rho : float\n",
    "        \"\"\"\n",
    "    xc = np.mean(x_points)\n",
    "    yc = np.mean(y_points)\n",
    "\n",
    "    num = - 2 * (np.sum((x_points - xc) * (y_points - yc)))\n",
    "    denom = np.sum(((y_points - yc) ** 2) - (x_points - xc) ** 2)\n",
    "    alpha = (np.arctan2(num, denom)) / 2\n",
    "\n",
    "    if alpha < 0:\n",
    "        alpha += np.pi\n",
    "\n",
    "        \n",
    "    # Get rho by converting centroid to polar coordinates and\n",
    "    theta = np.arctan2(yc, xc) - alpha\n",
    "    rho = np.sqrt(xc**2 + yc**2) * math.cos(theta)\n",
    "    return rho, alpha\n"
   ]
  },
  {
   "cell_type": "markdown",
   "metadata": {},
   "source": [
    "The cell below is a method for validating your implementation"
   ]
  },
  {
   "cell_type": "code",
   "execution_count": null,
   "metadata": {},
   "outputs": [],
   "source": [
    "x_points, y_points = get_coords(1)\n",
    "rho, alpha = fitLine(x_points, y_points)\n",
    "\n",
    "visualize(x_points, y_points, [(rho, alpha)])"
   ]
  },
  {
   "cell_type": "markdown",
   "metadata": {},
   "source": [
    "Function get_single_line returns points from a random generated line. Try your implementation a few times to see if it is consistent with different situations. An epsilon can be given to the function to change the amount of noise on the data points."
   ]
  },
  {
   "cell_type": "code",
   "execution_count": null,
   "metadata": {
    "scrolled": false
   },
   "outputs": [],
   "source": [
    "x_points, y_points = get_single_line()\n",
    "rho, alpha = fitLine(x_points, y_points)\n",
    "\n",
    "visualize(x_points, y_points, [(rho, alpha)])"
   ]
  },
  {
   "cell_type": "markdown",
   "metadata": {},
   "source": [
    "## Exercise 2 Split and merge\n",
    "We employ the popular “Split-and-Merge” \\[1, p.249-250\\] line extraction algorithm to\n",
    "divide the obtained range measurements (points) into segments of points lying roughly\n",
    "on a common line. [https://ieeexplore.ieee.org/stamp/stamp.jsp?tp=&arnumber=905371]\n",
    "\n",
    "While the just implemented fitLine is generally a good algorithm to fit lines it can sometimes cause problems when it is used in combination with split and merge. A better line fit algorithm is called \"iterative-end-point-fit\". This is small modification on the normal fitLine that fits the line based on only the first and last point of the given points. You don't have to implement this yourself since it is already given below. "
   ]
  },
  {
   "cell_type": "code",
   "execution_count": null,
   "metadata": {},
   "outputs": [],
   "source": [
    "def iterative_end_point_fit(x_points, y_points):\n",
    "    \"\"\"\n",
    "    This function fits a polar line using iterative-end-point-fit\n",
    "    input:\n",
    "        - x_points : np_array\n",
    "        - y_points : np_array\n",
    "    output:\n",
    "        - (alpha, rho) : tupple\n",
    "            - alpha : float\n",
    "            - rho : float\n",
    "    \"\"\"\n",
    "    x = np.array([x_points[0], x_points[-1]])\n",
    "    y = np.array([y_points[0], y_points[-1]])\n",
    "    \n",
    "    return fitLine(x, y)"
   ]
  },
  {
   "cell_type": "markdown",
   "metadata": {},
   "source": [
    "### Exercise 2.1: get furthest point from the line\n",
    "\n",
    "The first step is to calculate the furthest point from a line. Implement the function get_furthest_point which takes a line and points and returns the argument of the furthest point. Below is a example shown"
   ]
  },
  {
   "cell_type": "code",
   "execution_count": null,
   "metadata": {},
   "outputs": [],
   "source": [
    "x_points, y_points = get_coords(2)\n",
    "rho, alpha = get_line(2)\n",
    "arg_D = get_arg()\n",
    "\n",
    "visualize_furthest(x_points, y_points, x_points[arg_D], y_points[arg_D], (rho, alpha))"
   ]
  },
  {
   "cell_type": "markdown",
   "metadata": {},
   "source": [
    "Now implement get_furthest_point yourself"
   ]
  },
  {
   "cell_type": "code",
   "execution_count": null,
   "metadata": {},
   "outputs": [],
   "source": [
    "def get_furthest_point(line, x_points, y_points):\n",
    "    \"\"\"\n",
    "        This function will return the distance of the point that is the furthest from the line\n",
    "        input:\n",
    "            - line : tupple (alpha, rho)\n",
    "            - x_points : np_array\n",
    "            - y_points : np_array\n",
    "        return:\n",
    "            - arg_D : the argument of the furthest point\n",
    "            - dis : distance of the furthest point\n",
    "    \"\"\"\n",
    "    rho, alpha = line\n",
    "    norm_vec = np.array([math.cos(alpha) * rho, math.sin(alpha) * rho])\n",
    "    r_vec =  np.array([-norm_vec[1], norm_vec[0]])\n",
    "    \n",
    "    line_p1 = norm_vec\n",
    "    line_p2 = norm_vec + r_vec / np.linalg.norm(r_vec)\n",
    "    print(line_p1)\n",
    "    print(line_p2)\n",
    "    \n",
    "    max_d = [0, -1]    \n",
    "    for i,(x,y) in enumerate(zip(x_points, y_points)):\n",
    "        p = np.array([x, y])\n",
    "        d = np.linalg.norm( np.cross(line_p2 - line_p1, line_p1 - p)) / np.linalg.norm(line_p2 - line_p1)\n",
    "        \n",
    "        if d > max_d[0]:\n",
    "            max_d = [d, i]\n",
    "        \n",
    "    dis = max_d[0]\n",
    "    arg_D = max_d[1]\n",
    "\n",
    "    return arg_D, dis"
   ]
  },
  {
   "cell_type": "code",
   "execution_count": null,
   "metadata": {
    "scrolled": false
   },
   "outputs": [],
   "source": [
    "arg_D, dis = get_furthest_point((rho, alpha), x_points, y_points)\n",
    "\n",
    "visualize_furthest(x_points, y_points, x_points[arg_D], y_points[arg_D], (rho, alpha))"
   ]
  },
  {
   "cell_type": "markdown",
   "metadata": {},
   "source": [
    "### Exercise 2.2: split the points based on the furthest point\n",
    "\n",
    "The second step is to split the set of points into two sets of points based on the furthest point. Implement the function get_furthest_point which takes a line and points and returns the argument of the furthest point. Below is a example shown"
   ]
  },
  {
   "cell_type": "code",
   "execution_count": null,
   "metadata": {},
   "outputs": [],
   "source": [
    "L1_x, L1_y, L2_x, L2_y = get_coords(3) \n",
    "rho, alpha = get_line(2)\n",
    "\n",
    "visualize_split(L1_x, L1_y, L2_x, L2_y, (rho, alpha))"
   ]
  },
  {
   "cell_type": "markdown",
   "metadata": {},
   "source": [
    "Now implement split_points yourself"
   ]
  },
  {
   "cell_type": "code",
   "execution_count": null,
   "metadata": {},
   "outputs": [],
   "source": [
    "def split_points(line, x_points, y_points, arg_D):\n",
    "    \"\"\"\n",
    "        This function will split the x and y points into a group of points that lie below this line and above this line\n",
    "        input:\n",
    "            - line : tupple (alpha, rho)\n",
    "            - x_points : np_array\n",
    "            - y_points : np_array\n",
    "            - arg_D : argument of the furthest point\n",
    "        returns:\n",
    "            - x_points_1 : np_array\n",
    "            - y_points_1 : np_array\n",
    "            - x_points_2 : np_array\n",
    "            - y_points_2 : np_array\n",
    "    \"\"\"\n",
    "    rho, alpha = line \n",
    "    norm_vec = np.array([math.cos(alpha) * rho, math.sin(alpha) * rho])\n",
    "    r_vec =  np.array([-norm_vec[1], norm_vec[0]])\n",
    "    \n",
    "    line_p1 = norm_vec\n",
    "    line_p2 = norm_vec + r_vec / np.linalg.norm(r_vec)\n",
    "    \n",
    "    s = (line_p2[1] - line_p1[1]) / (line_p2[0] - line_p1[0])\n",
    "    b = line_p2[1] - (s * line_p2[0])\n",
    "  \n",
    "    s_i = -s \n",
    "    b_i = y_points[arg_D] - (s_i * x_points[arg_D])\n",
    "\n",
    "    xi = (b - b_i) / (s_i - s)\n",
    "    yi = s_i * xi + b_i\n",
    "    \n",
    "    x_points_1 = []\n",
    "    y_points_1 = []\n",
    "    x_points_2 = []\n",
    "    y_points_2 = []\n",
    "\n",
    "    for i,(x,y) in enumerate(zip(x_points, y_points)):\n",
    "     \n",
    "        b = y_points[i] - (s_i * x_points[i])\n",
    "\n",
    "        xi = (b - b_i) / (s_i - s)\n",
    "        yi = s_i * xi + b_i\n",
    "        \n",
    "        if xi > 0: \n",
    "            x_points_1.append(x_points[i])\n",
    "            y_points_1.append(y_points[i])\n",
    "        \n",
    "        if xi <= 0: \n",
    "            x_points_2.append(x_points[i])\n",
    "            y_points_2.append(y_points[i])\n",
    "            \n",
    "\n",
    "    \n",
    "    return x_points_1, y_points_1, x_points_2, y_points_2\n"
   ]
  },
  {
   "cell_type": "code",
   "execution_count": null,
   "metadata": {},
   "outputs": [],
   "source": [
    "x_points, y_points = get_coords(2)\n",
    "rho, alpha = get_line(2)\n",
    "arg_D = get_arg()\n",
    "\n",
    "L1_x, L1_y, L2_x, L2_y = split_points((rho, alpha), x_points, y_points, arg_D)\n",
    "\n",
    "visualize_split(L1_x, L1_y, L2_x, L2_y, (rho, alpha))"
   ]
  },
  {
   "cell_type": "markdown",
   "metadata": {},
   "source": [
    "### Exercise 2.3: Implementing split and merge\n",
    "\n",
    "Implement the split and merge algorithm using the functions created in Exercise 2.1 and 2.2\n",
    "\n",
    "An example of a correct results is shown below"
   ]
  },
  {
   "cell_type": "code",
   "execution_count": null,
   "metadata": {},
   "outputs": [],
   "source": [
    "x_points, y_points = get_coords(2)\n",
    "\n",
    "lines = get_line(3)\n",
    "\n",
    "visualize(x_points, y_points, lines)"
   ]
  },
  {
   "cell_type": "markdown",
   "metadata": {},
   "source": [
    "Now implement split and merge yourself"
   ]
  },
  {
   "cell_type": "code",
   "execution_count": null,
   "metadata": {},
   "outputs": [],
   "source": [
    "def split_and_merge(x_points, y_points, D=0.1):\n",
    "    \"\"\"\n",
    "        This function will split and merge untill the furthest point is smaller than the threshold\n",
    "        input:\n",
    "            - x_points : np_array\n",
    "            - y_points : np_array\n",
    "        output:\n",
    "            - lines : list of tupples [(alpha1, rho1), (alpha2, rho2), ...]\n",
    "    \"\"\"\n",
    "    \n",
    "    ##################\n",
    "    # YOUR CODE HERE #\n",
    "    ##################\n",
    "    \n",
    "    raise NotImplementedError\n",
    "    return lines"
   ]
  },
  {
   "cell_type": "code",
   "execution_count": null,
   "metadata": {},
   "outputs": [],
   "source": [
    "lines = split_and_merge(x_points, y_points, 2)\n",
    "\n",
    "visualize(x_points, y_points, lines)"
   ]
  },
  {
   "cell_type": "markdown",
   "metadata": {},
   "source": [
    "Try the algorithm on other situations"
   ]
  },
  {
   "cell_type": "markdown",
   "metadata": {},
   "source": [
    "Try your implementation off split and merge using the functions get_single_line, get_double_line and get_triple_line to test how consistent it is. All three functions can be given an epsilon to change the amount of noise on the points."
   ]
  },
  {
   "cell_type": "code",
   "execution_count": null,
   "metadata": {
    "scrolled": true
   },
   "outputs": [],
   "source": [
    "x_points, y_points = get_single_line()\n",
    "lines = split_and_merge(x_points, y_points)\n",
    "\n",
    "visualize(x_points, y_points, lines)"
   ]
  },
  {
   "cell_type": "code",
   "execution_count": null,
   "metadata": {},
   "outputs": [],
   "source": [
    "x_points, y_points = get_double_line()\n",
    "lines = split_and_merge(x_points, y_points)\n",
    "\n",
    "visualize(x_points, y_points, lines)"
   ]
  },
  {
   "cell_type": "code",
   "execution_count": null,
   "metadata": {},
   "outputs": [],
   "source": [
    "x_points, y_points = get_triple_line()\n",
    "lines = split_and_merge(x_points, y_points)\n",
    "\n",
    "visualize(x_points, y_points, lines)"
   ]
  },
  {
   "cell_type": "markdown",
   "metadata": {},
   "source": [
    "### Theory question 2\n",
    "In split and merge we set a threshold D, explain the function of this threshold, what happens in its limits: D=0 and D=$\\infty$\n",
    "\n",
    "### Answer"
   ]
  },
  {
   "cell_type": "markdown",
   "metadata": {},
   "source": [
    "### Theory question 3\n",
    "In figure below we see some data points with some error. In the book we assume we have error free data. Can you think of a extention to the split-and-merge algorithm that can deal with this kind error in the data?\n",
    "\n",
    "![title](split_and_merge_error.png)\n",
    "\n",
    "### Answer"
   ]
  },
  {
   "cell_type": "markdown",
   "metadata": {},
   "source": [
    "# Handing in\n",
    "Before you hand in this IPYNB please use restart and run all, after running save the notebook and hand in"
   ]
  },
  {
   "cell_type": "code",
   "execution_count": null,
   "metadata": {},
   "outputs": [],
   "source": []
  }
 ],
 "metadata": {
  "file_extension": ".py",
  "kernelspec": {
   "display_name": "Python 3",
   "language": "python",
   "name": "python3"
  },
  "language_info": {
   "codemirror_mode": {
    "name": "ipython",
    "version": 3
   },
   "file_extension": ".py",
   "mimetype": "text/x-python",
   "name": "python",
   "nbconvert_exporter": "python",
   "pygments_lexer": "ipython3",
   "version": "3.7.4"
  },
  "mimetype": "text/x-python",
  "name": "python",
  "npconvert_exporter": "python",
  "pygments_lexer": "ipython3",
  "version": 3
 },
 "nbformat": 4,
 "nbformat_minor": 2
}
